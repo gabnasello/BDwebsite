{
 "cells": [
  {
   "cell_type": "markdown",
   "metadata": {},
   "source": [
    "# Exploring data with SPARQL\n",
    "<br/>"
   ]
  },
  {
   "cell_type": "markdown",
   "metadata": {},
   "source": [
    "<br/>\n",
    "\n",
    "````{panels_fairplus}\n",
    ":identifier_text: FCB040\n",
    ":identifier_link: 'https://w3id.org/faircookbook/FCB040'\n",
    ":difficulty_level: 4\n",
    ":recipe_type: hands_on\n",
    ":reading_time_minutes: 30\n",
    ":intended_audience: principal_investigator, data_manager, data_scientist\n",
    ":maturity_level: 2\n",
    ":maturity_indicator: 1, 2\n",
    ":has_executable_code: yeah\n",
    ":recipe_name: FAIRifying Data Matrices - Step3 - Exploring data with SPARQL\n",
    "````\n",
    "\n",
    "\n",
    "## Background:\n",
    "\n",
    "Here, we show how to query the LinkedData graph using SPARQL to retrieve information about key study design\n",
    "descriptors such as study group size and treatment groups."
   ]
  },
  {
   "cell_type": "code",
   "execution_count": null,
   "metadata": {},
   "outputs": [],
   "source": [
    "import rdflib\n",
    "from rdflib import Graph, RDF\n",
    "from IPython.core.display import display, HTML\n",
    "import os\n",
    "import json\n",
    "import csv\n",
    "import uuid\n",
    "\n",
    "from SPARQLWrapper import SPARQLWrapper, SPARQLWrapper2, JSON, JSONLD, CSV, TSV, N3, RDF, RDFXML, TURTLE\n",
    "import pandas as pds\n",
    "import itertools\n",
    "\n",
    "import numpy as np\n",
    "from plotnine import *\n"
   ]
  },
  {
   "cell_type": "code",
   "execution_count": null,
   "metadata": {},
   "outputs": [],
   "source": [
    "def queryResultToHTMLTable(queryResult):\n",
    "    \n",
    "   HTMLResult = '<table><tr style=\"color:white;background-color:#43BFC7;font-weight:bold\">'\n",
    "   # print variable names and build header:\n",
    "   for varName in queryResult.vars:\n",
    "       HTMLResult = HTMLResult + '<td>' + varName + '</td>'\n",
    "   HTMLResult = HTMLResult + '</tr>'\n",
    "\n",
    "   # print values from each row and build table of results\n",
    "   for row in queryResult:\n",
    "      HTMLResult = HTMLResult + '<tr>'   \n",
    "      for column in row:\n",
    "        #print(\"COLUMN:\", column)\n",
    "        if column is not \"\":\n",
    "             HTMLResult = HTMLResult + '<td>' +  str(column) + '</td>'\n",
    "        else:\n",
    "             HTMLResult = HTMLResult + '<td>' + \"N/A\"+ '</td>'\n",
    "      HTMLResult = HTMLResult + '</tr>'\n",
    "   HTMLResult = HTMLResult + '</table>'\n",
    "   display(HTML(HTMLResult))"
   ]
  },
  {
   "cell_type": "code",
   "execution_count": null,
   "metadata": {},
   "outputs": [],
   "source": [
    "def get_sparql_variables(results, sparql_wrapper=\"SPARQLWrapper2\"):\n",
    "#     return results.vars if (\"sparqlwrapper2\" == sparql_wrapper.lower()) else results['head']['vars']\n",
    "    return results.vars if (\"sparqlwrapper2\" == sparql_wrapper.lower()) else results.vars\n",
    "\n",
    "\n",
    "def get_sparql_bindings(results, sparql_wrapper=\"SPARQLWrapper2\"):\n",
    "    return results.bindings if (\"sparqlwrapper2\" == sparql_wrapper.lower()) else results['results']['bindings']\n",
    "\n",
    "\n",
    "def get_sparql_binding_variable_value(binding, variable, sparql_wrapper=\"SPARQLWrapper2\"):\n",
    "    return binding[variable] if (\"sparqlwrapper2\" == sparql_wrapper.lower()) else binding[variable]['value']\n",
    "\n",
    "def make_sparql_dict_list(bindings, variables, sparql_wrapper=\"SPARQLWrapper2\"):\n",
    "    def binding_value(binding, var): # helper function for returning values\n",
    "        return get_sparql_binding_variable_value(binding, var, sparql_wrapper) if (var in binding) else None\n",
    "\n",
    "    dict_list = []  # list to contain dictionaries\n",
    "    for binding in itertools.chain(bindings):\n",
    "        values = [binding_value(binding, var) for var in itertools.chain(variables)]\n",
    "        dict_list.append(dict(zip(variables, values)))\n",
    "\n",
    "    return dict_list\n",
    "\n",
    "\n",
    "def make_sparql_df(results, sparql_wrapper=\"SPARQLWrapper2\"):\n",
    "    variables = get_sparql_variables(results, sparql_wrapper)\n",
    "    # print(variables)\n",
    "\n",
    "    cleaned_variables=[str(var.replace('\\\\n','')) for var in variables] \n",
    "\n",
    "    #print(cleaned_variables)\n",
    "    bindings = get_sparql_bindings(results, sparql_wrapper)\n",
    "    # print(bindings)\n",
    "    \n",
    "    # create a list of dictionaries to use as data for dataframe\n",
    "    data_list = make_sparql_dict_list(bindings, cleaned_variables, sparql_wrapper)\n",
    "    \n",
    "    # print(data_list)\n",
    "\n",
    "    df = pds.DataFrame(data_list) # create dataframe from data list\n",
    "    df[\"sample_mean\"] = df[\"sample_mean\"].astype(\"float\")\n",
    "\n",
    "   # print(df[\"sample_mean\"])\n",
    "    return df[cleaned_variables] # return dataframe with columns reordered"
   ]
  },
  {
   "cell_type": "markdown",
   "metadata": {},
   "source": [
    "*credits to Bob du Charme for the following function [http://www.snee.com/bobdc.blog/2016/07/sparql-in-a-jupyter-aka-ipytho.html]"
   ]
  },
  {
   "cell_type": "code",
   "execution_count": null,
   "metadata": {},
   "outputs": [],
   "source": [
    "g = Graph()"
   ]
  },
  {
   "cell_type": "markdown",
   "metadata": {},
   "source": [
    "Let's read the RDF graph generated using the rose-dtpkg2rdf.py python script and saved to disk as a turtle file"
   ]
  },
  {
   "cell_type": "code",
   "execution_count": null,
   "metadata": {},
   "outputs": [],
   "source": [
    "#g.parse(\"./../data/processed/rose-data-as-rdf/rose-aroma-ng-06-2018-subset.ttl\", format=\"n3\")\n",
    "g.parse(\"./../data/processed/rose-data-as-rdf/rose-aroma-ng-06-2018-full.ttl\", format=\"n3\")\n",
    "# g.parse(\"./../data/processed/denovo/rdf/rose-aroma-ng-06-2018-full.ttl\", format=\"n3\")"
   ]
  },
  {
   "cell_type": "markdown",
   "metadata": {},
   "source": [
    "Now let's ask for the independent variables and their levels using the following SPARQL query"
   ]
  },
  {
   "cell_type": "code",
   "execution_count": null,
   "metadata": {},
   "outputs": [],
   "source": [
    "get_idv_and_levels = g.query(\"\"\"\n",
    "PREFIX stato: <http://purl.obolibrary.org/obo/STATO_>\n",
    "prefix rdfs: <http://www.w3.org/2000/01/rdf-schema#> \n",
    "PREFIX ncbitax: <http://purl.obolibrary.org/obo/NCBITaxon_>\n",
    "prefix has_part: <http://purl.obolibrary.org/obo/BFO_0000051>\n",
    "            SELECT DISTINCT\n",
    "             ?Predictor\n",
    "             ?PredictorLevel\n",
    "             WHERE { \n",
    "                ?var a stato:0000087 ;\n",
    "                    rdfs:label ?Predictor ;\n",
    "                    has_part: ?value .\n",
    "                ?value rdfs:label ?PredictorLevel .    \n",
    "                 }               \n",
    "\"\"\")\n",
    "\n"
   ]
  },
  {
   "cell_type": "markdown",
   "metadata": {},
   "source": [
    "We can display the results of that query using the function declared earlier on"
   ]
  },
  {
   "cell_type": "code",
   "execution_count": null,
   "metadata": {},
   "outputs": [],
   "source": [
    "queryResultToHTMLTable(get_idv_and_levels)"
   ]
  },
  {
   "cell_type": "markdown",
   "metadata": {},
   "source": [
    "Let's now ask for the number of biological and technical replicates used to compute the mean concentration of the chemical compounds detected and forming the signature of the rose fragrance"
   ]
  },
  {
   "cell_type": "code",
   "execution_count": null,
   "metadata": {},
   "outputs": [],
   "source": [
    "get_replication_info = g.query(\"\"\"\n",
    "prefix rdfs: <http://www.w3.org/2000/01/rdf-schema#> \n",
    "prefix chmo:   <http://purl.obolibrary.org/obo/CHMO_> \n",
    "prefix msio:   <http://purl.obolibrary.org/obo/MSIO_> \n",
    "prefix stato: <http://purl.obolibrary.org/obo/STATO_> \n",
    "prefix obi: <http://purl.obolibrary.org/obo/OBI_> \n",
    "prefix ro: <http://purl.obolibrary.org/obo/RO_>\n",
    "prefix po: <http://purl.obolibrary.org/obo/PO_>\n",
    "prefix has_member: <http://purl.obolibrary.org/obo/RO_0002351>\n",
    "prefix has_value: <http://purl.obolibrary.org/obo/STATO_0000129> \n",
    "prefix computed_from: <http://purl.obolibrary.org/obo/STATO_0000557>\n",
    "prefix has_specified_input: <http://purl.obolibrary.org/obo/OBI_0000293>\n",
    "prefix is_specified_output_of: <http://purl.obolibrary.org/obo/OBI_0000295>\n",
    "prefix is_about: <http://purl.obolibrary.org/obo/IAO_0000136>\n",
    "\n",
    "SELECT        \n",
    "      ?TreatmentGroup \n",
    "      ?ChemicalCompound\n",
    "      ?MeanConcentration\n",
    "      (count(distinct ?member) as ?NbTechnicalReplicate) \n",
    "      (count(distinct ?input) as ?NbBiologicalReplicate)      \n",
    "      WHERE {\n",
    "            ?population a stato:0000193 ;\n",
    "                rdfs:label ?TreatmentGroup ;\n",
    "                has_member: ?member .      \n",
    "            ?member has_specified_input: ?input .              \n",
    "            ?mean a stato:0000402 ;\n",
    "                computed_from: ?population ;\n",
    "                has_value: ?MeanConcentration ;\n",
    "                is_about: ?ChemicalCompound .\n",
    "            ?concentration a stato:0000072;\n",
    "                is_about: ?ChemicalCompound .\n",
    "}\n",
    "      GROUP BY ?population \n",
    "\"\"\")\n"
   ]
  },
  {
   "cell_type": "markdown",
   "metadata": {},
   "source": [
    "Once more, we invoke the pretty printing function"
   ]
  },
  {
   "cell_type": "code",
   "execution_count": null,
   "metadata": {},
   "outputs": [],
   "source": [
    "queryResultToHTMLTable(get_replication_info)"
   ]
  },
  {
   "cell_type": "code",
   "execution_count": null,
   "metadata": {},
   "outputs": [],
   "source": [
    "get_all_data = g.query(\"\"\"\n",
    "prefix rdfs: <http://www.w3.org/2000/01/rdf-schema#> \n",
    "prefix chmo:   <http://purl.obolibrary.org/obo/CHMO_> \n",
    "prefix msio:   <http://purl.obolibrary.org/obo/MSIO_> \n",
    "prefix stato: <http://purl.obolibrary.org/obo/STATO_> \n",
    "prefix obi: <http://purl.obolibrary.org/obo/OBI_> \n",
    "prefix ro: <http://purl.obolibrary.org/obo/RO_>\n",
    "prefix po: <http://purl.obolibrary.org/obo/PO_>\n",
    "prefix chebi: <http://purl.obolibrary.org/obo/CHEBI_>\n",
    "prefix has_value: <http://purl.obolibrary.org/obo/STATO_0000129>\n",
    "prefix computed_from: <http://purl.obolibrary.org/obo/STATO_0000557>\n",
    "prefix is_about: <http://purl.obolibrary.org/obo/IAO_0000136>\n",
    "prefix is_denoted_by: <http://purl.obolibrary.org/obo/STATO_0000205>\n",
    "prefix derives_from: <http://purl.obolibrary.org/obo/RO_0001000> \n",
    "prefix located_in: <http://purl.obolibrary.org/obo/RO_0001025>\n",
    "prefix denotes: <http://purl.obolibrary.org/obo/IAO_0000219>\n",
    "prefix measured_in: <http://purl.obolibrary.org/obo/RO_0002351> \n",
    "\n",
    "SELECT REDUCED  ?chemical_name ?chebi_identifier ?inchi ?sample_mean ?sem ?treatment ?genotype ?organism_part\n",
    "WHERE {\n",
    "        ?pop_mean a stato:0000402 ;\n",
    "         is_about: ?chebi_identifier ;\n",
    "         computed_from: ?population ;\n",
    "         has_value: ?sample_mean .\n",
    "     ?chem a ?chebi_identifier ;\n",
    "         rdfs:label ?chemical_name ;\n",
    "         is_denoted_by: ?inchi .\n",
    "     ?semv a stato:0000037 ; \n",
    "         denotes: ?pop_mean ;\n",
    "         has_value: ?sem.\n",
    "     ?population a stato:0000193 ;\n",
    "         rdfs:label ?treatment .\n",
    "     ?sub_conc a stato:0000072 ;\n",
    "         derives_from: ?genotype ;\n",
    "         located_in: ?organism_part;\n",
    "         measured_in: ?population .         \n",
    "}        \n",
    "\"\"\")"
   ]
  },
  {
   "cell_type": "code",
   "execution_count": null,
   "metadata": {},
   "outputs": [],
   "source": [
    "queryResultToHTMLTable(get_all_data)"
   ]
  },
  {
   "cell_type": "code",
   "execution_count": null,
   "metadata": {},
   "outputs": [],
   "source": [
    "data=make_sparql_df(get_all_data)"
   ]
  },
  {
   "cell_type": "code",
   "execution_count": null,
   "metadata": {},
   "outputs": [],
   "source": [
    "# width = figure_size[0]\n",
    "# height = figure_size[0] * aspect_ratio\n",
    "gray = '#666666'\n",
    "orange = '#FF8000'\n",
    "blue = '#3333FF'\n",
    "\n",
    "p1 = (ggplot(data)\n",
    " + aes('chemical_name','sample_mean',fill='factor(treatment)')\n",
    " + geom_col()\n",
    "+ facet_wrap('~treatment', dir='v',ncol=1)\n",
    " + scale_y_continuous(expand = (0,0))\n",
    " + theme(axis_text_x=element_text(rotation=90, hjust=1, fontsize=6, color=blue))\n",
    " + theme(axis_text_y=element_text(rotation=0, hjust=2, fontsize=6, color=orange))\n",
    "         + theme(figure_size = (8, 16))\n",
    ")\n",
    "\n",
    "p1 + theme(panel_background=element_rect(fill=blue)\n",
    "       )\n",
    "\n",
    "p1"
   ]
  },
  {
   "cell_type": "markdown",
   "metadata": {
    "pycharm": {
     "name": "#%% md\n"
    }
   },
   "source": [
    "## References\n",
    "````{dropdown} **References**\n",
    "[1. Magnard JL, Roccia A, Caissard JC, Vergne P, Sun P, Hecquet R, Dubois A, Hibrand-Saint Oyant L, Jullien F, Nicolè F,\n",
    "Raymond O, Huguet S, Baltenweck R, Meyer S, Claudel P, Jeauffre J, Rohmer M, Foucher F, Hugueney P, Bendahmane M,\n",
    "Baudino S. PLANT VOLATILES. Biosynthesis of monoterpene scent compounds in roses. Science. 2015 Jul 3;349(6243):81-3.](https://doi.org/10.1126/science.aab0696)\n",
    "\n",
    "[2. Raymond O, Gouzy J, Just J, Badouin H, Verdenaud M, Lemainque A, Vergne P, Moja S, Choisne N, Pont C, Carrère S,\n",
    "Caissard JC, Couloux A, Cottret L, Aury JM, Szécsi J, Latrasse D, Madoui MA, François L, Fu X, Yang SH, Dubois A,\n",
    "Piola F, Larrieu A, Perez M, Labadie K, Perrier L, Govetto B, Labrousse Y, Villand P, Bardoux C, Boltz V,\n",
    "Lopez-Roques C, Heitzler P, Vernoux T, Vandenbussche M, Quesneville H, Boualem A, Bendahmane A, Liu C, Le Bris M,\n",
    "Salse J, Baudino S, Benhamed M, Wincker P, Bendahmane M. The Rosa genome provides new insights into the domestication\n",
    "of modern roses. Nat Genet. 2018 Jun;50(6):772-777.](https://doi.org/10.1038/s41588-018-0110-3)\n",
    "````"
   ]
  },
  {
   "cell_type": "markdown",
   "source": [
    "## Authors\n",
    "````{authors_fairplus}\n",
    "Philippe: Writing - Original Draft\n",
    "Susanna: Writing - Review & Editing, Funding Acquisition\n",
    "````\n",
    "\n",
    "## License\n",
    "````{license_fairplus}\n",
    "CC-BY-4.0\n",
    "````\n",
    "\n",
    "\n"
   ],
   "metadata": {
    "collapsed": false
   }
  }
 ],
 "metadata": {
  "kernelspec": {
   "display_name": "venv372",
   "language": "python",
   "name": "venv372"
  },
  "language_info": {
   "codemirror_mode": {
    "name": "ipython",
    "version": 3
   },
   "file_extension": ".py",
   "mimetype": "text/x-python",
   "name": "python",
   "nbconvert_exporter": "python",
   "pygments_lexer": "ipython3",
   "version": "3.7.2"
  }
 },
 "nbformat": 4,
 "nbformat_minor": 2
}